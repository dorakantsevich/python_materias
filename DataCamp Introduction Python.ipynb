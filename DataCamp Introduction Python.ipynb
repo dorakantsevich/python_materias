{
 "cells": [
  {
   "cell_type": "markdown",
   "metadata": {},
   "source": [
    "# Introduction to Python (DataCamp)"
   ]
  },
  {
   "cell_type": "markdown",
   "metadata": {},
   "source": [
    "### Python Basics"
   ]
  },
  {
   "cell_type": "markdown",
   "metadata": {},
   "source": [
    "- **- степень \n",
    "- % - остаток от деления \n",
    "- type() - тип переменной "
   ]
  },
  {
   "cell_type": "markdown",
   "metadata": {},
   "source": [
    "### Python Lists"
   ]
  },
  {
   "cell_type": "markdown",
   "metadata": {},
   "source": [
    "- [] - список\n",
    "- del(my_list[2]) - удалить третий элемент из списка\n",
    "- y = list(x) ИЛИ y = x[:]- чтобы не изменялись элементы x, если поменять элементы y"
   ]
  },
  {
   "cell_type": "markdown",
   "metadata": {},
   "source": [
    "### Functions"
   ]
  },
  {
   "cell_type": "markdown",
   "metadata": {},
   "source": [
    "- round(5.32, 1) - округление\n",
    "- help(round) - справка\n",
    "- sorted() - сортировка списка\n",
    "\n",
    "\n",
    "-list methods\n",
    "    1. my_list.index(\"mom\") - из списка выбрать текстовый элемент\n",
    "    2. my_list.count(1.5) - сколько раз встречается цифра в листе\n",
    "\n",
    "-str methods\n",
    "    1. my_str.capitalized() - первую букву делает заглавной\n",
    "    2. my_str.capitalized(\"z\",\"a\") - замена буквы"
   ]
  },
  {
   "cell_type": "markdown",
   "metadata": {},
   "source": [
    "### NumPy"
   ]
  },
  {
   "cell_type": "markdown",
   "metadata": {},
   "source": [
    "- bmi[bmi>23] - из array отбираем по условию элементы\n",
    "- np_array.shape - размер array\n",
    "- np.array([1,2,3]) - как правильно задать одномерный array\n",
    "\n",
    "\n",
    "Функции\n",
    "    1. np.corrcoef(,) - корреляция\n",
    "    2. np.random.normal(m,sd,n) - выборка с нормальным распределением\n",
    "    3. np.column_stack((,)) - соединение двух array\n",
    "    \n",
    "- np_heights[np_positions == 'GK']\n",
    "- np_heights[np_positions != 'GK']"
   ]
  },
  {
   "cell_type": "markdown",
   "metadata": {},
   "source": [
    "# Insides from Xena"
   ]
  },
  {
   "cell_type": "markdown",
   "metadata": {},
   "source": [
    "Cписки\n",
    "- [ ] [a link](sss) \n",
    "    - data\n",
    "    - *sss*\n",
    "    - ~ssjdj~\n",
    "- [x] cd\n",
    "    1. a\n",
    "    2. f\n",
    "    \n",
    "Цитирование\n",
    "\n",
    "> citation\n",
    "\n",
    "Формулы\n",
    "\n",
    "$\\int x_2$\n",
    "$$\\int x_2$$"
   ]
  },
  {
   "cell_type": "markdown",
   "metadata": {},
   "source": [
    "### One string solutions"
   ]
  },
  {
   "cell_type": "markdown",
   "metadata": {},
   "source": [
    "- df.apply(lambda x: np.round(x*1000,3)) - применить функцию к df  в одну строку\n",
    "\n",
    "- [str(i).replace(\"\\n\\xa0\",\"\") if not(pd.isna(i)) else np.nan for i in data.iloc[:,0]] - цикл для создания массива с условием в одну строку"
   ]
  }
 ],
 "metadata": {
  "kernelspec": {
   "display_name": "Python 3",
   "language": "python",
   "name": "python3"
  },
  "language_info": {
   "codemirror_mode": {
    "name": "ipython",
    "version": 3
   },
   "file_extension": ".py",
   "mimetype": "text/x-python",
   "name": "python",
   "nbconvert_exporter": "python",
   "pygments_lexer": "ipython3",
   "version": "3.8.3"
  }
 },
 "nbformat": 4,
 "nbformat_minor": 4
}
